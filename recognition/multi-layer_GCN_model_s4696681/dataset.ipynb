{
 "cells": [
  {
   "cell_type": "markdown",
   "id": "2ea626f0",
   "metadata": {},
   "source": [
    "Create Adjacency matrix from the musae_facebook_edges.csv file"
   ]
  },
  {
   "cell_type": "code",
   "execution_count": 6,
   "id": "9dcf26c1",
   "metadata": {},
   "outputs": [
    {
     "name": "stdout",
     "output_type": "stream",
     "text": [
      "[[1 0 0 ... 0 0 0]\n",
      " [0 1 0 ... 0 0 0]\n",
      " [0 0 1 ... 0 0 0]\n",
      " ...\n",
      " [0 0 0 ... 1 0 0]\n",
      " [0 0 0 ... 0 1 0]\n",
      " [0 0 0 ... 0 0 1]]\n"
     ]
    }
   ],
   "source": [
    "import csv\n",
    "import numpy as np\n",
    "\n",
    "\n",
    "\"\"\"Create Adjacency matrix from the musae_facebook_edges.csv file\"\"\"\n",
    "def create_adjacency_matrix():\n",
    "    data = []\n",
    "\n",
    "    # Read the CSV data from musae_facebook_edges.csv file\n",
    "    with open('../../../facebook_large/musae_facebook_edges.csv', 'r') as file:\n",
    "        reader = csv.reader(file, delimiter=',')\n",
    "        next(reader)\n",
    "        data = list(reader)\n",
    "\n",
    "    # Determine all unique nodes, it will convert it to a list and sort it, then create a mapping of node to its index\n",
    "    nodes = set()\n",
    "    for row in data:\n",
    "        nodes.add(row[0])\n",
    "        nodes.add(row[1])\n",
    "    nodes = sorted(list(nodes), key=int)  \n",
    "    node_to_index = {node: idx for idx, node in enumerate(nodes)}\n",
    "\n",
    "    # Initialize adjacency matrix with zeros\n",
    "    matrix_size = len(nodes)\n",
    "    adjacency_matrix = np.zeros((matrix_size, matrix_size), dtype=int)\n",
    "\n",
    "    # Fill the matrix\n",
    "    for row in data:\n",
    "        i, j = node_to_index[row[0]], node_to_index[row[1]]\n",
    "        adjacency_matrix[i][j] = 1\n",
    "        # Because the links are symmetric\n",
    "        adjacency_matrix[j][i] = 1  \n",
    "\n",
    "    # Every node links to itself so the following must be done\n",
    "    np.fill_diagonal(adjacency_matrix, 1)\n",
    "    return adjacency_matrix\n",
    "\n",
    "adjacency_matrix = create_adjacency_matrix()"
   ]
  },
  {
   "cell_type": "code",
   "execution_count": null,
   "id": "8b2c6fd5",
   "metadata": {},
   "outputs": [],
   "source": []
  }
 ],
 "metadata": {
  "kernelspec": {
   "display_name": "Python 3 (ipykernel)",
   "language": "python",
   "name": "python3"
  },
  "language_info": {
   "codemirror_mode": {
    "name": "ipython",
    "version": 3
   },
   "file_extension": ".py",
   "mimetype": "text/x-python",
   "name": "python",
   "nbconvert_exporter": "python",
   "pygments_lexer": "ipython3",
   "version": "3.11.4"
  }
 },
 "nbformat": 4,
 "nbformat_minor": 5
}
